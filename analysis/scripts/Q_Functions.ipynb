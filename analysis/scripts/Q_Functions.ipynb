{
 "cells": [
  {
   "cell_type": "code",
   "execution_count": null,
   "id": "protecting-tiger",
   "metadata": {},
   "outputs": [],
   "source": [
    "# og data set - processed (thank u cole)\n",
    "\n",
    "import pandas as pd\n",
    "import numpy as np\n",
    "\n",
    "def load_and_process(path_to_csv):\n",
    "    \n",
    "    df = (\n",
    "    \tpd.read_csv(path_to_csv)\n",
    "    \t.loc[lambda x: x['STOLEN_VALUE']>1000]\n",
    "        .drop(['ORI', 'PUB_AGENCY_NAME', 'PUB_AGENCY_UNIT', 'AGENCY_TYPE_NAME', 'STATE_ABBR', 'POPULATION_GROUP_CODE', 'OFFENSE_CODE', 'VICTIM_TYPE_CODE', 'LOCATION_CODE', 'WEAPON_CODE', 'PROP_DESC_ID', 'PROP_DESC_CODE'], axis=1)\n",
    "   \t\t.sort_values(\"DATA_YEAR\", ascending = True)\n",
    "   \t\t.rename(columns={\n",
    "   \t\t\t\"COUNTY_NAME\" : \"County Name\",\n",
    "   \t\t\t\"POPULATION_GROUP_DESC\": \"Population Description\", \n",
    "   \t\t\t\"REGION_NAME\" : \"Region Name\",\n",
    "   \t\t\t\"DATA_YEAR\" : \"Year\",\n",
    "   \t\t\t\"STATE_NAME\" : \"State\",\n",
    "   \t\t\t\"DIVISION_NAME\" : \"Division\",\n",
    "   \t\t\t\"COUNTY_NAME\" : \"County\",\n",
    "   \t\t\t\"REGION_NAME\" : \"Region\",\n",
    "   \t\t\t\"OFFENSE_NAME\" : \"Offense\",\n",
    "   \t\t\t\"OFFENDER_RACE\" : \"Offender Race\",\n",
    "   \t\t\t\"OFFENDER_ETHNICITY\" : \"Offender Ethnicity\",\n",
    "   \t\t\t\"OFFENDER_AGE\" : \"Offender Age\",\n",
    "   \t\t\t\"OFFENDER_SEX\" : \"Offender Sex\",\n",
    "   \t\t\t\"VICTIM_TYPE_NAME\" : \"Victim Type\",\n",
    "   \t\t\t\"LOCATION_NAME\" : \"Location\",\n",
    "   \t\t\t\"WEAPON_NAME\" : \"Weapon\",\n",
    "   \t\t\t\"PROP_DESC_NAME\" : \"Property Type\",\n",
    "   \t\t\t\"STOLEN_VALUE\" : \"Stolen Value\",\n",
    "   \t\t\t\"RECOVERED_VALUE\" : \"Recovered Value\",\n",
    "   \t\t\t\"RECOVERED_FLAG\" : \"Recovered?\",\n",
    "   \t\t\t\"DATE_RECOVERED\" : \"Recovery Date\"\n",
    "\t\t})\n",
    "    )\n",
    "    \n",
    "    \n",
    "    return df\n",
    "df = load_and_process(\"../../Dataset.csv\")\n",
    "df"
   ]
  },
  {
   "cell_type": "code",
   "execution_count": null,
   "id": "ahead-preservation",
   "metadata": {},
   "outputs": [],
   "source": [
    "#What areas are most prone to theft \n",
    "\n"
   ]
  },
  {
   "cell_type": "code",
   "execution_count": null,
   "id": "mexican-handle",
   "metadata": {},
   "outputs": [],
   "source": [
    "#What kinds of goods are most commonly stolen?"
   ]
  },
  {
   "cell_type": "code",
   "execution_count": null,
   "id": "existing-belfast",
   "metadata": {},
   "outputs": [],
   "source": [
    "#What is the average difference in value between value of goods stolen and recovered or what is the percentage of value recovered?"
   ]
  },
  {
   "cell_type": "code",
   "execution_count": null,
   "id": "separated-radical",
   "metadata": {},
   "outputs": [],
   "source": [
    "#What years were particularly bad for crime?"
   ]
  },
  {
   "cell_type": "code",
   "execution_count": null,
   "id": "united-measurement",
   "metadata": {},
   "outputs": [],
   "source": [
    "#Is there a relationship between population size and crime rate?"
   ]
  }
 ],
 "metadata": {
  "kernelspec": {
   "display_name": "Python 3",
   "language": "python",
   "name": "python3"
  },
  "language_info": {
   "codemirror_mode": {
    "name": "ipython",
    "version": 3
   },
   "file_extension": ".py",
   "mimetype": "text/x-python",
   "name": "python",
   "nbconvert_exporter": "python",
   "pygments_lexer": "ipython3",
   "version": "3.8.5"
  }
 },
 "nbformat": 4,
 "nbformat_minor": 5
}
