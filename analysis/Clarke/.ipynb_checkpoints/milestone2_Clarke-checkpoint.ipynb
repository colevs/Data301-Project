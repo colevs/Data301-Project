{
 "cells": [
  {
   "cell_type": "code",
   "execution_count": 2,
   "id": "above-library",
   "metadata": {},
   "outputs": [],
   "source": [
    "import pandas as pd \n",
    "import numpy as np"
   ]
  },
  {
   "cell_type": "code",
   "execution_count": 56,
   "id": "enclosed-perspective",
   "metadata": {},
   "outputs": [],
   "source": [
    "def load_and_process(path_to_csv):\n",
    "    \n",
    "    df = (\n",
    "    pd.read_csv(path_to_csv)\n",
    "    .loc[lambda x: x['STOLEN_VALUE']>1000]\n",
    "        .drop(['ORI', 'PUB_AGENCY_NAME', 'PUB_AGENCY_UNIT', 'AGENCY_TYPE_NAME', 'STATE_ABBR', 'POPULATION_GROUP_CODE', 'OFFENSE_CODE', 'VICTIM_TYPE_CODE', 'LOCATION_CODE', 'WEAPON_CODE', 'PROP_DESC_ID', 'PROP_DESC_CODE'], axis=1)\n",
    "    .sort_values(\"DATA_YEAR\", ascending = True)\n",
    "    .rename(columns={\n",
    "    \"COUNTY_NAME\" : \"County_Name\",\n",
    "    \"POPULATION_GROUP_DESC\": \"Population_Description\", \n",
    "    \"REGION_NAME\" : \"Region_Name\",\n",
    "    \"DATA_YEAR\" : \"Year\",\n",
    "    \"STATE_NAME\" : \"State\",\n",
    "    \"DIVISION_NAME\" : \"Division\",\n",
    "    \"COUNTY_NAME\" : \"County\",\n",
    "    \"REGION_NAME\" : \"Region\",\n",
    "    \"OFFENSE_NAME\" : \"Offense\",\n",
    "    \"OFFENDER_RACE\" : \"Offender_Race\",\n",
    "    \"OFFENDER_ETHNICITY\" : \"Offender_Ethnicity\",\n",
    "    \"OFFENDER_AGE\" : \"Offender_Age\",\n",
    "    \"OFFENDER_SEX\" : \"Offender_Sex\",\n",
    "    \"VICTIM_TYPE_NAME\" : \"Victim_Type\",\n",
    "    \"LOCATION_NAME\" : \"Location\",\n",
    "    \"WEAPON_NAME\" : \"Weapon\",\n",
    "    \"PROP_DESC_NAME\" : \"Property_Type\",\n",
    "    \"STOLEN_VALUE\" : \"Stolen_Value\",\n",
    "    \"RECOVERED_VALUE\" : \"Recovered_Value\",\n",
    "    \"RECOVERED_FLAG\" : \"Recovered?\",\n",
    "    \"DATE_RECOVERED\" : \"Recovery_Date\"\n",
    "    })\n",
    "    )\n",
    "    \n",
    "    \n",
    "    return df\n",
    "\n",
    "\n",
    "\n",
    "df=load_and_process(\"../../Dataset.csv\")\n",
    "\n"
   ]
  },
  {
   "cell_type": "markdown",
   "id": "professional-drawing",
   "metadata": {},
   "source": [
    "---\n",
    "## Lets do some exploration of our dataset now\n",
    "\n",
    "\n",
    "\n",
    "Lets start by getting the general structure of our dataset"
   ]
  },
  {
   "cell_type": "code",
   "execution_count": 57,
   "id": "precious-numbers",
   "metadata": {},
   "outputs": [
    {
     "data": {
      "text/html": [
       "<div>\n",
       "<style scoped>\n",
       "    .dataframe tbody tr th:only-of-type {\n",
       "        vertical-align: middle;\n",
       "    }\n",
       "\n",
       "    .dataframe tbody tr th {\n",
       "        vertical-align: top;\n",
       "    }\n",
       "\n",
       "    .dataframe thead th {\n",
       "        text-align: right;\n",
       "    }\n",
       "</style>\n",
       "<table border=\"1\" class=\"dataframe\">\n",
       "  <thead>\n",
       "    <tr style=\"text-align: right;\">\n",
       "      <th></th>\n",
       "      <th>Year</th>\n",
       "      <th>State</th>\n",
       "      <th>Division</th>\n",
       "      <th>County</th>\n",
       "      <th>Region</th>\n",
       "      <th>Population_Description</th>\n",
       "      <th>Offense</th>\n",
       "      <th>Offender_Race</th>\n",
       "      <th>Offender_Ethnicity</th>\n",
       "      <th>Offender_Age</th>\n",
       "      <th>Offender_Sex</th>\n",
       "      <th>Victim_Type</th>\n",
       "      <th>Location</th>\n",
       "      <th>Weapon</th>\n",
       "      <th>Property_Type</th>\n",
       "      <th>Stolen_Value</th>\n",
       "      <th>Recovered_Value</th>\n",
       "      <th>Recovered?</th>\n",
       "      <th>Recovery_Date</th>\n",
       "    </tr>\n",
       "  </thead>\n",
       "  <tbody>\n",
       "    <tr>\n",
       "      <th>45880</th>\n",
       "      <td>2013</td>\n",
       "      <td>Virginia</td>\n",
       "      <td>South Atlantic</td>\n",
       "      <td>NEWPORT NEWS CITY</td>\n",
       "      <td>South</td>\n",
       "      <td>Cities from 100,000 thru 249,999</td>\n",
       "      <td>All Other Larceny</td>\n",
       "      <td>NaN</td>\n",
       "      <td>NaN</td>\n",
       "      <td>NaN</td>\n",
       "      <td>NaN</td>\n",
       "      <td>Individual</td>\n",
       "      <td>Parking/Drop Lot/Garage</td>\n",
       "      <td>NaN</td>\n",
       "      <td>Consumable Goods</td>\n",
       "      <td>3000.0</td>\n",
       "      <td>0.0</td>\n",
       "      <td>N</td>\n",
       "      <td>NaN</td>\n",
       "    </tr>\n",
       "    <tr>\n",
       "      <th>38924</th>\n",
       "      <td>2013</td>\n",
       "      <td>Tennessee</td>\n",
       "      <td>East South Central</td>\n",
       "      <td>SULLIVAN; CARTER; WASHINGTON</td>\n",
       "      <td>South</td>\n",
       "      <td>Cities from 50,000 thru 99,999</td>\n",
       "      <td>Theft From Motor Vehicle</td>\n",
       "      <td>NaN</td>\n",
       "      <td>NaN</td>\n",
       "      <td>NaN</td>\n",
       "      <td>NaN</td>\n",
       "      <td>Business</td>\n",
       "      <td>Parking/Drop Lot/Garage</td>\n",
       "      <td>NaN</td>\n",
       "      <td>Money</td>\n",
       "      <td>2000.0</td>\n",
       "      <td>0.0</td>\n",
       "      <td>N</td>\n",
       "      <td>NaN</td>\n",
       "    </tr>\n",
       "    <tr>\n",
       "      <th>38736</th>\n",
       "      <td>2013</td>\n",
       "      <td>Florida</td>\n",
       "      <td>South Atlantic</td>\n",
       "      <td>MIAMI-DADE</td>\n",
       "      <td>South</td>\n",
       "      <td>Cities from 25,000 thru 49,999</td>\n",
       "      <td>Theft From Motor Vehicle</td>\n",
       "      <td>NaN</td>\n",
       "      <td>NaN</td>\n",
       "      <td>NaN</td>\n",
       "      <td>NaN</td>\n",
       "      <td>Business</td>\n",
       "      <td>Commercial/Office Building</td>\n",
       "      <td>NaN</td>\n",
       "      <td>Radio/ TV/ VCR</td>\n",
       "      <td>6576.0</td>\n",
       "      <td>0.0</td>\n",
       "      <td>N</td>\n",
       "      <td>NaN</td>\n",
       "    </tr>\n",
       "    <tr>\n",
       "      <th>38214</th>\n",
       "      <td>2013</td>\n",
       "      <td>Tennessee</td>\n",
       "      <td>East South Central</td>\n",
       "      <td>SHELBY</td>\n",
       "      <td>South</td>\n",
       "      <td>Cities from 500,000 thru 999,999</td>\n",
       "      <td>Theft From Motor Vehicle</td>\n",
       "      <td>NaN</td>\n",
       "      <td>NaN</td>\n",
       "      <td>NaN</td>\n",
       "      <td>NaN</td>\n",
       "      <td>Business</td>\n",
       "      <td>Commercial/Office Building</td>\n",
       "      <td>NaN</td>\n",
       "      <td>Radio/ TV/ VCR</td>\n",
       "      <td>1200.0</td>\n",
       "      <td>0.0</td>\n",
       "      <td>N</td>\n",
       "      <td>NaN</td>\n",
       "    </tr>\n",
       "    <tr>\n",
       "      <th>38213</th>\n",
       "      <td>2013</td>\n",
       "      <td>Tennessee</td>\n",
       "      <td>East South Central</td>\n",
       "      <td>SHELBY</td>\n",
       "      <td>South</td>\n",
       "      <td>Cities from 500,000 thru 999,999</td>\n",
       "      <td>Theft From Motor Vehicle</td>\n",
       "      <td>NaN</td>\n",
       "      <td>NaN</td>\n",
       "      <td>NaN</td>\n",
       "      <td>NaN</td>\n",
       "      <td>Business</td>\n",
       "      <td>Other/Unknown</td>\n",
       "      <td>NaN</td>\n",
       "      <td>Radio/ TV/ VCR</td>\n",
       "      <td>4000.0</td>\n",
       "      <td>0.0</td>\n",
       "      <td>N</td>\n",
       "      <td>NaN</td>\n",
       "    </tr>\n",
       "  </tbody>\n",
       "</table>\n",
       "</div>"
      ],
      "text/plain": [
       "       Year      State            Division                        County  \\\n",
       "45880  2013   Virginia      South Atlantic             NEWPORT NEWS CITY   \n",
       "38924  2013  Tennessee  East South Central  SULLIVAN; CARTER; WASHINGTON   \n",
       "38736  2013    Florida      South Atlantic                    MIAMI-DADE   \n",
       "38214  2013  Tennessee  East South Central                        SHELBY   \n",
       "38213  2013  Tennessee  East South Central                        SHELBY   \n",
       "\n",
       "      Region            Population_Description                   Offense  \\\n",
       "45880  South  Cities from 100,000 thru 249,999         All Other Larceny   \n",
       "38924  South    Cities from 50,000 thru 99,999  Theft From Motor Vehicle   \n",
       "38736  South    Cities from 25,000 thru 49,999  Theft From Motor Vehicle   \n",
       "38214  South  Cities from 500,000 thru 999,999  Theft From Motor Vehicle   \n",
       "38213  South  Cities from 500,000 thru 999,999  Theft From Motor Vehicle   \n",
       "\n",
       "      Offender_Race Offender_Ethnicity  Offender_Age Offender_Sex Victim_Type  \\\n",
       "45880           NaN                NaN           NaN          NaN  Individual   \n",
       "38924           NaN                NaN           NaN          NaN    Business   \n",
       "38736           NaN                NaN           NaN          NaN    Business   \n",
       "38214           NaN                NaN           NaN          NaN    Business   \n",
       "38213           NaN                NaN           NaN          NaN    Business   \n",
       "\n",
       "                         Location Weapon     Property_Type  Stolen_Value  \\\n",
       "45880     Parking/Drop Lot/Garage    NaN  Consumable Goods        3000.0   \n",
       "38924     Parking/Drop Lot/Garage    NaN             Money        2000.0   \n",
       "38736  Commercial/Office Building    NaN    Radio/ TV/ VCR        6576.0   \n",
       "38214  Commercial/Office Building    NaN    Radio/ TV/ VCR        1200.0   \n",
       "38213               Other/Unknown    NaN    Radio/ TV/ VCR        4000.0   \n",
       "\n",
       "       Recovered_Value Recovered? Recovery_Date  \n",
       "45880              0.0          N           NaN  \n",
       "38924              0.0          N           NaN  \n",
       "38736              0.0          N           NaN  \n",
       "38214              0.0          N           NaN  \n",
       "38213              0.0          N           NaN  "
      ]
     },
     "execution_count": 57,
     "metadata": {},
     "output_type": "execute_result"
    }
   ],
   "source": [
    "df.head()"
   ]
  },
  {
   "cell_type": "markdown",
   "id": "nutritional-hamburg",
   "metadata": {},
   "source": [
    "We see our dataset contains 19 columns of interesting variables and is being sorted by the year of occurence starting in 2013\n",
    "\n",
    "Lets see how many rows we have..."
   ]
  },
  {
   "cell_type": "code",
   "execution_count": 58,
   "id": "enclosed-field",
   "metadata": {},
   "outputs": [
    {
     "name": "stdout",
     "output_type": "stream",
     "text": [
      "We have 21111 rows\n",
      "\n",
      "\n",
      "\n"
     ]
    }
   ],
   "source": [
    "print(\"We have {} rows\\n\\n\\n\".format(df[\"Year\"].count()))"
   ]
  },
  {
   "cell_type": "markdown",
   "id": "mobile-faith",
   "metadata": {},
   "source": [
    "Now lets take a look at some of the largest and smallest values of some of the columns were interested in...\n",
    "\n",
    "I am interested in looking at some of the values that were stolen, we know from our import that we are limiting the dataset to values of goods stolen to be greater than 1000 so this would be assumed to be the minimum. Lets look at the maximum then: "
   ]
  },
  {
   "cell_type": "code",
   "execution_count": 59,
   "id": "objective-doctrine",
   "metadata": {},
   "outputs": [
    {
     "name": "stdout",
     "output_type": "stream",
     "text": [
      "The maximum value of goods stolen was: 250000000.0\n",
      "\n",
      "\n",
      "\n"
     ]
    }
   ],
   "source": [
    "print(\"The maximum value of goods stolen was: {}\\n\\n\\n\".format(df[\"Stolen_Value\"].max()))\n",
    "#Thats expensive"
   ]
  },
  {
   "cell_type": "markdown",
   "id": "saved-percentage",
   "metadata": {},
   "source": [
    "How about the average cost of goods stolen?"
   ]
  },
  {
   "cell_type": "code",
   "execution_count": 60,
   "id": "meaningful-tourist",
   "metadata": {},
   "outputs": [
    {
     "name": "stdout",
     "output_type": "stream",
     "text": [
      "The average value of goods stolen was: 39663.855193974705\n",
      "\n",
      "\n",
      "\n"
     ]
    }
   ],
   "source": [
    "print(\"The average value of goods stolen was: {}\\n\\n\\n\".format(df[\"Stolen_Value\"].mean()))"
   ]
  },
  {
   "cell_type": "markdown",
   "id": "injured-moderator",
   "metadata": {},
   "source": [
    "## Lets take a look at the regions given in the dataframe and compare them\n",
    "\n",
    "First lets see which area has the most crime"
   ]
  },
  {
   "cell_type": "code",
   "execution_count": 63,
   "id": "disturbed-recipient",
   "metadata": {},
   "outputs": [
    {
     "name": "stdout",
     "output_type": "stream",
     "text": [
      "We see from the graph that clearly the South region has the most crime\n",
      "\n"
     ]
    },
    {
     "data": {
      "image/png": "[encoded data removed]",
      "text/plain": [
       "<Figure size 432x288 with 1 Axes>"
      ]
     },
     "metadata": {
      "needs_background": "light"
     },
     "output_type": "display_data"
    }
   ],
   "source": [
    "def theft_by_area(dataFrame):\n",
    "    import matplotlib.pyplot as plt\n",
    "    import seaborn as sns\n",
    "    \n",
    "    theft=sns.countplot(x=\"Region\",data=dataFrame)\n",
    "    \n",
    "theft_by_area(df)\n",
    "\n",
    "print(\"We see from the graph that clearly the South region has the most crime\\n\")"
   ]
  },
  {
   "cell_type": "code",
   "execution_count": 64,
   "id": "nonprofit-hardwood",
   "metadata": {},
   "outputs": [
    {
     "name": "stdout",
     "output_type": "stream",
     "text": [
      "Looking at the percentages, the South region has more crime than all the other regions combined\n",
      "\n"
     ]
    },
    {
     "data": {
      "image/png": "[encoded data removed]",
      "text/plain": [
       "<Figure size 432x288 with 1 Axes>"
      ]
     },
     "metadata": {},
     "output_type": "display_data"
    }
   ],
   "source": [
    "def theft_by_area_pie(dataFrame):\n",
    "    import matplotlib.pyplot as plt\n",
    "    import seaborn as sns\n",
    "    \n",
    "    pie_graph=plt.pie(dataFrame[\"Region\"].value_counts(),labels=dataFrame[\"Region\"].value_counts().iloc[:4].index,autopct='%1.1f%%')\n",
    "    \n",
    "theft_by_area_pie(df)\n",
    "\n",
    "print(\"Looking at the percentages, the South region has more crime than all the other regions combined\\n\")"
   ]
  },
  {
   "cell_type": "markdown",
   "id": "helpful-manchester",
   "metadata": {},
   "source": [
    "Lets take a look at the values of goods stolen on average from those areas\n"
   ]
  },
  {
   "cell_type": "code",
   "execution_count": 66,
   "id": "correct-meter",
   "metadata": {},
   "outputs": [
    {
     "data": {
      "image/png": "[encoded data removed]",
      "text/plain": [
       "<Figure size 432x288 with 1 Axes>"
      ]
     },
     "metadata": {
      "needs_background": "light"
     },
     "output_type": "display_data"
    }
   ],
   "source": [
    "def averages_values_stolen_by_area(dataFrame):\n",
    "    import matplotlib.pyplot as plt\n",
    "    import seaborn as sns\n",
    "    \n",
    "    aerage_value=sns.barplot(x=\"Region\",y=\"Stolen_Value\",data=dataFrame)\n",
    "    \n",
    "averages_values_stolen_by_area(df)"
   ]
  },
  {
   "cell_type": "markdown",
   "id": "immune-optics",
   "metadata": {},
   "source": [
    "Again we see that the South Region has the most value on average that has been stolen. This high average may have to do with the large amount of outliers that appear to be present over this range though so lets try and take those large outliers out."
   ]
  },
  {
   "cell_type": "code",
   "execution_count": 69,
   "id": "devoted-sacramento",
   "metadata": {},
   "outputs": [
    {
     "data": {
      "text/plain": [
       "False    21077\n",
       "True        34\n",
       "Name: Stolen_Value, dtype: int64"
      ]
     },
     "execution_count": 69,
     "metadata": {},
     "output_type": "execute_result"
    }
   ],
   "source": [
    "(df[\"Stolen_Value\"]>1000000).value_counts()"
   ]
  },
  {
   "cell_type": "markdown",
   "id": "fifteen-collective",
   "metadata": {},
   "source": [
    "There are 34 values over \\$ 1,000,000 so lets remove them"
   ]
  },
  {
   "cell_type": "code",
   "execution_count": 73,
   "id": "distant-anchor",
   "metadata": {},
   "outputs": [],
   "source": [
    "df_without_outliers=df[df[\"Stolen_Value\"]<1000000]"
   ]
  },
  {
   "cell_type": "markdown",
   "id": "offensive-profession",
   "metadata": {},
   "source": [
    "Now using the similar graph as above we see a more uniform graph with less effect of outliers"
   ]
  },
  {
   "cell_type": "code",
   "execution_count": 74,
   "id": "plain-cross",
   "metadata": {},
   "outputs": [
    {
     "data": {
      "image/png": "[encoded data removed]",
      "text/plain": [
       "<Figure size 432x288 with 1 Axes>"
      ]
     },
     "metadata": {
      "needs_background": "light"
     },
     "output_type": "display_data"
    }
   ],
   "source": [
    "averages_values_stolen_by_area(df_without_outliers)"
   ]
  },
  {
   "cell_type": "markdown",
   "id": "military-tackle",
   "metadata": {},
   "source": [
    "---\n",
    "### We could also take a look at the most common items stollen\n",
    "\n",
    "\n",
    "Lets start by looking at the top 5 items that are stollen from all areas"
   ]
  },
  {
   "cell_type": "code",
   "execution_count": 75,
   "id": "fatty-certificate",
   "metadata": {},
   "outputs": [
    {
     "data": {
      "image/png": "[encoded data removed]",
      "text/plain": [
       "<Figure size 432x288 with 1 Axes>"
      ]
     },
     "metadata": {
      "needs_background": "light"
     },
     "output_type": "display_data"
    }
   ],
   "source": [
    "\n",
    "def top_5_stolen(dataframe):\n",
    "    import matplotlib.pyplot as plt\n",
    "    import seaborn as sns\n",
    "    unique5_items=dataframe[\"Property_Type\"].value_counts().iloc[:5].index\n",
    "    top_5=sns.countplot(x=\"Property_Type\",data=dataframe,order=unique5_items)\n",
    "    \n",
    "top_5_stolen(df)\n",
    "\n",
    "\n",
    "\n"
   ]
  },
  {
   "cell_type": "markdown",
   "id": "equal-assault",
   "metadata": {},
   "source": [
    "**We see that the most commonly stolen item is an automobile category**\n",
    "\n",
    "If we take a look at the average value of theses for 5 items that has been stolen and include items that were or weren't recovered (while ignoring the outliers again) "
   ]
  },
  {
   "cell_type": "code",
   "execution_count": 79,
   "id": "classified-march",
   "metadata": {},
   "outputs": [
    {
     "data": {
      "image/png": "[encoded data removed]",
      "text/plain": [
       "<Figure size 432x288 with 1 Axes>"
      ]
     },
     "metadata": {
      "needs_background": "light"
     },
     "output_type": "display_data"
    }
   ],
   "source": [
    "def average_value_top_5_stolen(dataFrame):\n",
    "    import matplotlib.pyplot as plt\n",
    "    import seaborn as sns\n",
    "    unique5_items=dataFrame[\"Property_Type\"].value_counts().iloc[:5].index\n",
    "    average_top_5=sns.barplot(x=\"Property_Type\",y=\"Stolen_Value\",hue=\"Recovered?\",data=dataFrame,order=unique5_items)\n",
    "\n",
    "\n",
    "average_value_top_5_stolen(df_without_outliers)"
   ]
  },
  {
   "cell_type": "markdown",
   "id": "nuclear-exploration",
   "metadata": {},
   "source": [
    "Interestingly, although Automobile is most commonly stolen it is not the heightest average value for goods stolen within these top 5"
   ]
  }
 ],
 "metadata": {
  "kernelspec": {
   "display_name": "Python 3",
   "language": "python",
   "name": "python3"
  },
  "language_info": {
   "codemirror_mode": {
    "name": "ipython",
    "version": 3
   },
   "file_extension": ".py",
   "mimetype": "text/x-python",
   "name": "python",
   "nbconvert_exporter": "python",
   "pygments_lexer": "ipython3",
   "version": "3.8.5"
  }
 },
 "nbformat": 4,
 "nbformat_minor": 5
}
