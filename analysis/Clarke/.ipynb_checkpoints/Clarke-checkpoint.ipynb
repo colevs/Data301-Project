{
 "cells": [
  {
   "cell_type": "markdown",
   "id": "original-victim",
   "metadata": {},
   "source": [
    "## Clarke Larsen Analysis Notebook\n",
    "\n",
    "**All work completed in this notebook was done by Clarke Larsen**\n",
    "\n",
    "*Work done for Data 301 Group Project with group 1032*"
   ]
  }
 ],
 "metadata": {
  "kernelspec": {
   "display_name": "Python 3",
   "language": "python",
   "name": "python3"
  },
  "language_info": {
   "codemirror_mode": {
    "name": "ipython",
    "version": 3
   },
   "file_extension": ".py",
   "mimetype": "text/x-python",
   "name": "python",
   "nbconvert_exporter": "python",
   "pygments_lexer": "ipython3",
   "version": "3.8.5"
  }
 },
 "nbformat": 4,
 "nbformat_minor": 5
}
